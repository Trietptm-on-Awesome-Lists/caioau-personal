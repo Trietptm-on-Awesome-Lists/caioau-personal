{
 "cells": [
  {
   "cell_type": "markdown",
   "metadata": {
    "deletable": true,
    "editable": true,
    "slideshow": {
     "slide_type": "notes"
    }
   },
   "source": [
    "TODO (isso nao será um slide, so pra sabermos oq falta):\n",
    "\n",
    "[x] descrição do encripta\n",
    "\n",
    "[ ] efeito decrypt na descrição do encripta [link](https://github.com/bartobri/no-more-secrets)(nao rolou)\n",
    "\n",
    "[x] citar aplicativos nao seguros e principais problemas\n",
    "\n",
    "[x] confirmar com o torsten a diferença entre forum e chat privado [Issue #799](https://code.briarproject.org/akwizgran/briar/issues/799)\n",
    "\n",
    "[ ] imagens? memes? gifs?\n",
    "\n",
    "[x] acabar slide final"
   ]
  },
  {
   "cell_type": "markdown",
   "metadata": {
    "deletable": true,
    "editable": true,
    "slideshow": {
     "slide_type": "slide"
    }
   },
   "source": [
    "# Aplicativos de mensagem seguros\n",
    "\n",
    "## Zé da Unicamp e amigos"
   ]
  },
  {
   "cell_type": "markdown",
   "metadata": {
    "collapsed": true,
    "deletable": true,
    "editable": true,
    "slideshow": {
     "slide_type": "slide"
    }
   },
   "source": [
    "# Encripta tudo unicamp:\n",
    "\n",
    "Encripta Tudo\n",
    "\n",
    "Somos um coletivo de alunos da Unicamp e realizamos atividades sobre software livre, criptografia, segurança e liberdade na rede\n",
    "\n",
    "Grupo no telegram: [http://t.me/encriptatudo](http://t.me/encriptatudo)\n",
    "\n",
    "Página no FB: [fb.com/encriptacamp](fb.com/encriptacamp)\n",
    "\n",
    "[Email](mailto:etu.contato@riseup.net)"
   ]
  },
  {
   "cell_type": "markdown",
   "metadata": {
    "deletable": true,
    "editable": true,
    "slideshow": {
     "slide_type": "slide"
    }
   },
   "source": [
    "# Glossario:\n",
    "\n",
    "Antes de falarmos sobre os aplicativos, precisamos esclarecer os seguintes conceitos:\n",
    "\n",
    "* Software Livre.\n",
    "* Criptografia de Chave Pública.\n",
    "* Criptografia fim a fim. \n",
    "* Sigilo enchaminhado (forward secrecy)"
   ]
  },
  {
   "cell_type": "markdown",
   "metadata": {
    "deletable": true,
    "editable": true,
    "slideshow": {
     "slide_type": "subslide"
    }
   },
   "source": [
    "# Software Livre:\n",
    "\n",
    "Software livre é o software que respeita a liberdade do usuario, contendo as 4 liberdades:\n",
    "\n",
    "(0): Rodar o código para qualquer proposito.\n",
    "\n",
    "(1): Estudar o código.\n",
    "\n",
    "(2): Modificar o código.\n",
    "\n",
    "(3): Compartilhar suas modificações."
   ]
  },
  {
   "cell_type": "markdown",
   "metadata": {
    "deletable": true,
    "editable": true,
    "slideshow": {
     "slide_type": "subslide"
    }
   },
   "source": [
    "## Criptografia de Chave Pública:\n",
    "\n",
    "Tradicionalmente quando vamos criptografar uma mensagem , é necessario que os envolvidos combinem em uma chave:\n",
    "\n",
    "mensagem ----(chave)--->texto cifrado ----(chave)---> mensagem original\n",
    "\n",
    "(criptografia simetrica)\n",
    "\n",
    "Porém para combinarem em uma chave, os envolvidos precisam de um canal seguro de comunicação, mas nem sempre isso é possivel, e quando é possivel deles terem um canal seguro de comunicação, porque eles precisam então usar criptografia?\n",
    "\n",
    "\n",
    "Uma solução para isso é a criptografia de chave pública: onde a chave é criada em pares, uma parte publica e uma chave privada, na qual somente a chave privada consegue descriptografar.\n",
    "\n",
    "mensagem ----(chave publica)--->texto cifrado ----(chave privada)---> mensagem original\n",
    "\n",
    "(criptografia de chave publica)"
   ]
  },
  {
   "cell_type": "markdown",
   "metadata": {
    "deletable": true,
    "editable": true,
    "slideshow": {
     "slide_type": "subslide"
    }
   },
   "source": [
    "# Criptografia fim a fim:\n",
    "\n",
    "É um sistema de comunicação no qual as mensagens são criptografadas de maneira que apenas os envolvidos consigam descriptografar as mensagems. Assim o serviço que entrega as mensagens não consegue ler as mensagems de seus clientes."
   ]
  },
  {
   "cell_type": "markdown",
   "metadata": {
    "deletable": true,
    "editable": true,
    "slideshow": {
     "slide_type": "subslide"
    }
   },
   "source": [
    "# Forward Secrecy:\n",
    "\n",
    "É uma propriedade de protocolos de comunição , no qual mesmo se as chaves privadas do participantes são obtidas não é possivel descriptografar as mensagems que foram trocadas."
   ]
  },
  {
   "cell_type": "markdown",
   "metadata": {
    "deletable": true,
    "editable": true,
    "slideshow": {
     "slide_type": "slide"
    }
   },
   "source": [
    "# Prerequisitos para aplicativos seguros:\n",
    "\n",
    "Para um aplicativo de mensagem ser considerado seguro , ele tem que satisfazer os seguintes criterios:\n",
    "\n",
    "* software livre.\n",
    "* forward-secrecy.\n",
    "* Criptografia fim a fim.\n",
    "* Autenticação.\n",
    "\n",
    "Exemplos de aplicativos não seguros:\n",
    "* Não é software livre: WhatsApp, Messenger\n",
    "* quais outros que a gente vai falar que não é seguro?\n",
    "* [EFF - Secure Messaging Scorecard](https://www.eff.org/node/82654)"
   ]
  },
  {
   "cell_type": "markdown",
   "metadata": {
    "deletable": true,
    "editable": true,
    "slideshow": {
     "slide_type": "slide"
    }
   },
   "source": [
    "# PGP:\n",
    "\n",
    "PGP ou **P**retty **G**ood **P**rivacy foi criado em 1991 pelo Phil Zimmermann é um programa para criptografar ou assinar digitalmente arquivos.\n",
    "\n",
    "```\n",
    "-----BEGIN PGP MESSAGE-----\n",
    "\n",
    "jA0ECQMK6Xln2DOR54z/0joBo17vba2CTX7voNnEzC270ZZj0byWbN5rspYe1i05\n",
    "wsMtI0lPPu7NLUhly8FZFq56AQ5/JXdQGGIp\n",
    "=vMel\n",
    "-----END PGP MESSAGE-----\n",
    "```\n",
    "\n",
    "[Como Criptografar e-mails com PGP](https://danielammorais.com/2016/05/29/criptografia-de-e-mails-com-pgp/)\n",
    "\n",
    "Clientes:\n",
    "* pc: linha de comando, thunderbird + enigmail\n",
    "* android: openkeychain + k9mail"
   ]
  },
  {
   "cell_type": "markdown",
   "metadata": {
    "deletable": true,
    "editable": true,
    "slideshow": {
     "slide_type": "subslide"
    }
   },
   "source": [
    "## Enigmail: [tutorial](https://ssd.eff.org/en/module/how-use-pgp-linux)\n",
    "\n",
    "![title](pgp-linux-52.png)"
   ]
  },
  {
   "cell_type": "markdown",
   "metadata": {
    "deletable": true,
    "editable": true,
    "slideshow": {
     "slide_type": "subslide"
    }
   },
   "source": [
    "# Android: openkeychain + k9mail : [tutorial](https://www.openkeychain.org/howto)\n",
    "\n",
    "![title](18_send_compose.png)"
   ]
  },
  {
   "cell_type": "markdown",
   "metadata": {
    "deletable": true,
    "editable": true,
    "slideshow": {
     "slide_type": "slide"
    }
   },
   "source": [
    "# OTR:\n",
    "\n",
    "OTR (**O**ff-**T**he-**R**ecord Messaging) é uma \"camada\" de segurança usada no protocolo de chat XMPP, que provem autenticação e forward secrecy\n",
    "\n",
    "clientes:\n",
    "* pc: pigdin, adium\n",
    "* android: conversations.\n",
    "* iphone: chatsecure."
   ]
  },
  {
   "cell_type": "markdown",
   "metadata": {
    "deletable": true,
    "editable": true,
    "slideshow": {
     "slide_type": "subslide"
    }
   },
   "source": [
    "# pc: pidgin+otr \n",
    "\n",
    "![title](how_to_use_otr_-_linux_-_12.png)"
   ]
  },
  {
   "cell_type": "markdown",
   "metadata": {
    "deletable": true,
    "editable": true,
    "slideshow": {
     "slide_type": "subslide"
    }
   },
   "source": [
    "![title](how_to_use_otr_-_linux_-_19.png)"
   ]
  },
  {
   "cell_type": "markdown",
   "metadata": {
    "deletable": true,
    "editable": true,
    "slideshow": {
     "slide_type": "subslide"
    }
   },
   "source": [
    "![title](how_to_use_otr_-_linux_-_23a.png)"
   ]
  },
  {
   "cell_type": "markdown",
   "metadata": {
    "deletable": true,
    "editable": true,
    "slideshow": {
     "slide_type": "subslide"
    }
   },
   "source": [
    "# android: Conversations \n",
    "\n",
    "![title](screenshot_encryption_selection.jpg)"
   ]
  },
  {
   "cell_type": "markdown",
   "metadata": {
    "deletable": true,
    "editable": true,
    "slideshow": {
     "slide_type": "slide"
    }
   },
   "source": [
    "# Signal:\n",
    "\n",
    "Aplicativo da Open Whisper Systems , facil de usar, funciona no computador (sem precisar deixar o celular conectado na internet) , recomendasse verificar os \"numeros de segurança\", tem um fork chamado Noise que é completamente software livre (não utiliza serviços do Google) \n",
    "\n",
    "![signal](signal.png)"
   ]
  },
  {
   "cell_type": "markdown",
   "metadata": {
    "deletable": true,
    "editable": true,
    "slideshow": {
     "slide_type": "slide"
    }
   },
   "source": [
    "# Chamadas:\n",
    "\n",
    "* [ring.cx](ring.cx) : Tem aplicativo pro android na fdroid e pra pc.\n",
    "* [Jitsi Meet](https://meet.jit.si/) : funciona no navegador, sem precisar instalar nada."
   ]
  },
  {
   "cell_type": "markdown",
   "metadata": {
    "deletable": true,
    "editable": true,
    "slideshow": {
     "slide_type": "slide"
    }
   },
   "source": [
    "# Briar: \n",
    "\n",
    "Applicativo completamente software livre , ainda em desenvolvimento , peer2peer (por enquanto usando bluetooth (não precisa de internet) e wifi com tor).\n",
    "\n",
    "* para add um contato vcs devem se encontrar pessoalmente e escanear seus qr codes\n",
    "(depois disso, vc pode introduzir um contato para outro)\n",
    "\n",
    "* forum e grupos privatos (threads :D)\n",
    "\n",
    "    + forum : Qualquer um pode adicionar pessoas no forum\n",
    "   \n",
    "    + grupo privado: so o dono do grupo pode adicionar pessoas no grupo\n",
    "\n",
    "* blog: pode ser lido por qualquer contato e ainda pode ser recompartilhado"
   ]
  },
  {
   "cell_type": "markdown",
   "metadata": {
    "deletable": true,
    "editable": true,
    "slideshow": {
     "slide_type": "subslide"
    }
   },
   "source": [
    "![title](briar.png)"
   ]
  },
  {
   "cell_type": "markdown",
   "metadata": {
    "deletable": true,
    "editable": true,
    "slideshow": {
     "slide_type": "slide"
    }
   },
   "source": [
    "# Obrigado"
   ]
  },
  {
   "cell_type": "markdown",
   "metadata": {
    "deletable": true,
    "editable": true,
    "slideshow": {
     "slide_type": "slide"
    }
   },
   "source": [
    "### Referencias:\n",
    "\n",
    "(1): FISL2016: Torsten Grote: Briar and the Crypto Messenge Evolution\n",
    "(https://youtu.be/Dr42vZIoGqM)\n",
    "\n",
    "(2): Webstock ‘15: Moxie Marlinspike - Making private communication simple \n",
    "(https://vimeo.com/124887048)\n",
    "\n",
    "(3): EFF Surveillance Self-Defense | Tips, Tools and How-tos for Safer Online Communications\n",
    "(https://ssd.eff.org)\n",
    "\n",
    "(4): Privacy Tools - Encryption Against Global Mass Surveillance\n",
    "(https://www.privacytools.io/)\n",
    "\n",
    "(5): Numberphile - Encryption and HUGE numbers \n",
    "(https://youtu.be/M7kEpw1tn50)\n",
    "\n",
    "(6): Computerphile: Public Key Cryptography \n",
    "(https://youtu.be/GSIDS_lvRv4)\n",
    "\n",
    "(7): CopperheadOS usage guide\n",
    "https://copperhead.co/android/docs/usage_guide\n",
    "\n",
    "(8): torsten fdroid repo:\n",
    "https://grobox.de/fdroid/\n",
    "\n",
    "(9): About backdoors in Signal and other apps\n",
    "http://blogs.fsfe.org/larma/2017/signal-backdoors/\n",
    "\n",
    "(10): Briar – Next Step of The Crypto Messenger Evolution\n",
    "https://blog.grobox.de/2016/briar-next-step-of-the-crypto-messenger-evolution/\n",
    "\n",
    "(11): Criptografia de emails com PGP\n",
    "https://danielammorais.com/2016/05/29/criptografia-de-e-mails-com-pgp/"
   ]
  }
 ],
 "metadata": {
  "celltoolbar": "Slideshow",
  "kernelspec": {
   "display_name": "Python 2",
   "language": "python",
   "name": "python2"
  },
  "language_info": {
   "codemirror_mode": {
    "name": "ipython",
    "version": 2
   },
   "file_extension": ".py",
   "mimetype": "text/x-python",
   "name": "python",
   "nbconvert_exporter": "python",
   "pygments_lexer": "ipython2",
   "version": "2.7.9"
  }
 },
 "nbformat": 4,
 "nbformat_minor": 2
}
